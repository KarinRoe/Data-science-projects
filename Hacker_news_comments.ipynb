{
 "cells": [
  {
   "cell_type": "markdown",
   "metadata": {
    "collapsed": true
   },
   "source": [
    "# Hacker News comment project\n",
    "\n",
    "In this project we will analyse a Hacker news data set to see which kind of post will most likely receive more comments from the community. \n",
    "Hacker News is a social news website focusing on technology and start-ups. Users can submit stories (known as \"posts\") and the community can vote and comment on them, as it is done at reddit. The site was started by the startup incubator Y Combinator and created by Paul Graham in February 2007.\n",
    "\n",
    "The data set we are working with is from [Kaggle](https://www.kaggle.com/hacker-news/hacker-news-posts) and contains posts from September 26 2015 to September 26 2016 and contains the following data:\n",
    "\n",
    "| Column name | Description|\n",
    "|----|----|\n",
    "|id|The unique identifier from Hacker News for the post|\n",
    "|title| The title of the post|\n",
    "|url| The URL that the posts links to, if the post has a URL|\n",
    "|num_points| The number of points the post acquired, calculated as the total number of upvotes minus the total number of downvotes|\n",
    "|num_comments| The number of comments that were made on the post|\n",
    "|author| The username of the person who submitted the post|\n",
    "|created_at| The date and time at which the post was submitted. The time zone is Eastern Time in the US|\n",
    "\n",
    "We are interested in posts whose titles begin either with `Ask HN` or `Show HN`. Users submit `Ask HN`posts to ask the Hacker News community a specific question and submit `Show HN` posts to show the Hacker News community a project, product or just generally something interesting. \n",
    "\n",
    "We will analyse `Ask HN` and `Show HN` posts and try to determine which of these two kind posts will receive more comments on average. Further we are interested if the time a comment is created influences the number of comments it will receive. "
   ]
  },
  {
   "cell_type": "markdown",
   "metadata": {},
   "source": [
    "**Importing data**"
   ]
  },
  {
   "cell_type": "code",
   "execution_count": 1,
   "metadata": {
    "collapsed": false
   },
   "outputs": [],
   "source": [
    "# read the csv file into python\n",
    "from csv import reader \n",
    "\n",
    "file_opened = open(\"hacker_news.csv\")\n",
    "file_read = reader(file_opened)\n",
    "list_of_list = list(file_read)\n",
    "\n",
    "# final data set we will work with\n",
    "hn = list_of_list[1:]\n",
    "hn_header = list_of_list[0]"
   ]
  },
  {
   "cell_type": "code",
   "execution_count": 6,
   "metadata": {
    "collapsed": false
   },
   "outputs": [
    {
     "name": "stdout",
     "output_type": "stream",
     "text": [
      "[['12224879', 'Interactive Dynamic Video', 'http://www.interactivedynamicvideo.com/', '386', '52', 'ne0phyte', '8/4/2016 11:52'], ['10975351', 'How to Use Open Source and Shut the Fuck Up at the Same Time', 'http://hueniverse.com/2016/01/26/how-to-use-open-source-and-shut-the-fuck-up-at-the-same-time/', '39', '10', 'josep2', '1/26/2016 19:30'], ['11964716', \"Florida DJs May Face Felony for April Fools' Water Joke\", 'http://www.thewire.com/entertainment/2013/04/florida-djs-april-fools-water-joke/63798/', '2', '1', 'vezycash', '6/23/2016 22:20']]\n",
      "\n",
      "\n",
      "20100\n"
     ]
    }
   ],
   "source": [
    "# show the first three rows\n",
    "print(hn[:3])\n",
    "print(\"\\n\")\n",
    "# number of data points\n",
    "print(len(hn))"
   ]
  },
  {
   "cell_type": "markdown",
   "metadata": {},
   "source": [
    "We are only interested in post beginning with `Ask HN` and `Show HN`. There are 1744 `Ask HN` posts and 1162 `Show HN` posts."
   ]
  },
  {
   "cell_type": "code",
   "execution_count": 13,
   "metadata": {
    "collapsed": false
   },
   "outputs": [
    {
     "name": "stdout",
     "output_type": "stream",
     "text": [
      "Posts starting with 'Ask HN':\n",
      "1744\n",
      "Posts starting with 'Show HN':\n",
      "1162\n",
      "All the other posts:\n",
      "17194\n"
     ]
    }
   ],
   "source": [
    "# create empty lists\n",
    "ask_posts = []\n",
    "show_posts = []\n",
    "other_posts = []\n",
    "\n",
    "# ieterate over the dataset and seperate them in three different lists\n",
    "for row in hn:\n",
    "    title = row[1]\n",
    "    title = title.lower()\n",
    "    if title.startswith(\"ask hn\"):\n",
    "        ask_posts.append(row)\n",
    "    elif title.startswith(\"show hn\"):\n",
    "        show_posts.append(row)\n",
    "    else:\n",
    "        other_posts.append(row)\n",
    "\n",
    "print(\"Posts starting with 'Ask HN':\")        \n",
    "print(len(ask_posts))\n",
    "print(\"Posts starting with 'Show HN':\")\n",
    "print(len(show_posts))\n",
    "print(\"All the other posts:\")\n",
    "print(len(other_posts))"
   ]
  },
  {
   "cell_type": "markdown",
   "metadata": {},
   "source": [
    "On average `Ask HN` (14,04) receives slightly more comments than `Show HN` (10.32). As `Ask HN` receives more comments we will analyse these posts further. We will investigate if ask posts created at a certain time are more likely to attract more comments than at other times."
   ]
  },
  {
   "cell_type": "code",
   "execution_count": 18,
   "metadata": {
    "collapsed": false
   },
   "outputs": [
    {
     "name": "stdout",
     "output_type": "stream",
     "text": [
      "Average comments of the 'Ask HN' posts:\n",
      "14.038417431192661\n",
      "Average comments of the 'Show HN' posts:\n",
      "10.31669535283993\n"
     ]
    }
   ],
   "source": [
    "total_ask_comments = 0\n",
    "\n",
    "for row in ask_posts:\n",
    "    comments = int(row[4])\n",
    "    total_ask_comments += comments\n",
    "    \n",
    "avg_ask_comments = total_ask_comments / len(ask_posts)\n",
    "\n",
    "print(\"Average comments of the 'Ask HN' posts:\")\n",
    "print(avg_ask_comments)\n",
    "\n",
    "total_show_comments = 0\n",
    "\n",
    "for row in show_posts:\n",
    "    comments = int(row[4])\n",
    "    total_show_comments += comments\n",
    "\n",
    "avg_show_comments = total_show_comments / len(show_posts)\n",
    "\n",
    "print(\"Average comments of the 'Show HN' posts:\")\n",
    "print(avg_show_comments)\n",
    "    "
   ]
  },
  {
   "cell_type": "markdown",
   "metadata": {},
   "source": [
    "First we will calculate the amount of ask posts created in each hour of the day, along with the number of comments received. Than we calculate the average number of comments ask posts receive by hour created."
   ]
  },
  {
   "cell_type": "code",
   "execution_count": 25,
   "metadata": {
    "collapsed": false
   },
   "outputs": [],
   "source": [
    "# import datetime \n",
    "import datetime as dt\n",
    "\n",
    "# create empty list\n",
    "result_list = []\n",
    "\n",
    "# create a list of list with created_at and comments\n",
    "for post in ask_posts:\n",
    "    created_at = post[6]\n",
    "    comments = int(post[4])\n",
    "    list = [created_at, comments]\n",
    "    result_list.append(list)\n",
    "\n",
    "# create two empty dictionaries\n",
    "counts_by_hour = {}\n",
    "comments_by_hour = {}\n",
    "\n",
    "for row in result_list:\n",
    "    # extract the hour from the date\n",
    "    time = row[0]\n",
    "    time = time.split(\" \")\n",
    "    hour = time[1]\n",
    "    # create datetime object\n",
    "    hour = dt.datetime.strptime(hour, \"%H:%M\")\n",
    "    # select only the hour\n",
    "    hour = dt.datetime.strftime(hour, \"%H\")\n",
    "    if hour not in counts_by_hour:\n",
    "        counts_by_hour[hour] = 1 \n",
    "        comments_by_hour[hour] = row[1]\n",
    "    else:\n",
    "        counts_by_hour[hour] += 1\n",
    "        comments_by_hour[hour] += row[1] "
   ]
  },
  {
   "cell_type": "markdown",
   "metadata": {},
   "source": [
    "`counts_by_hour` contains the number of ask posts created during each hour of the day"
   ]
  },
  {
   "cell_type": "code",
   "execution_count": 31,
   "metadata": {
    "collapsed": false
   },
   "outputs": [
    {
     "data": {
      "text/plain": [
       "{'00': 55,\n",
       " '01': 60,\n",
       " '02': 58,\n",
       " '03': 54,\n",
       " '04': 47,\n",
       " '05': 46,\n",
       " '06': 44,\n",
       " '07': 34,\n",
       " '08': 48,\n",
       " '09': 45,\n",
       " '10': 59,\n",
       " '11': 58,\n",
       " '12': 73,\n",
       " '13': 85,\n",
       " '14': 107,\n",
       " '15': 116,\n",
       " '16': 108,\n",
       " '17': 100,\n",
       " '18': 109,\n",
       " '19': 110,\n",
       " '20': 80,\n",
       " '21': 109,\n",
       " '22': 71,\n",
       " '23': 68}"
      ]
     },
     "execution_count": 31,
     "metadata": {},
     "output_type": "execute_result"
    }
   ],
   "source": [
    "counts_by_hour"
   ]
  },
  {
   "cell_type": "markdown",
   "metadata": {},
   "source": [
    "`comments_by_hour` contains the corresponding number of comments of ask posts created at each hour"
   ]
  },
  {
   "cell_type": "code",
   "execution_count": 33,
   "metadata": {
    "collapsed": false
   },
   "outputs": [
    {
     "data": {
      "text/plain": [
       "{'00': 447,\n",
       " '01': 683,\n",
       " '02': 1381,\n",
       " '03': 421,\n",
       " '04': 337,\n",
       " '05': 464,\n",
       " '06': 397,\n",
       " '07': 267,\n",
       " '08': 492,\n",
       " '09': 251,\n",
       " '10': 793,\n",
       " '11': 641,\n",
       " '12': 687,\n",
       " '13': 1253,\n",
       " '14': 1416,\n",
       " '15': 4477,\n",
       " '16': 1814,\n",
       " '17': 1146,\n",
       " '18': 1439,\n",
       " '19': 1188,\n",
       " '20': 1722,\n",
       " '21': 1745,\n",
       " '22': 479,\n",
       " '23': 543}"
      ]
     },
     "execution_count": 33,
     "metadata": {},
     "output_type": "execute_result"
    }
   ],
   "source": [
    "comments_by_hour"
   ]
  },
  {
   "cell_type": "markdown",
   "metadata": {},
   "source": [
    "We will use the two above dictionaries to calculate the average number of comments for for posts created during each hour of the day."
   ]
  },
  {
   "cell_type": "code",
   "execution_count": 37,
   "metadata": {
    "collapsed": true
   },
   "outputs": [],
   "source": [
    "avg_by_hour = []\n",
    "\n",
    "for hour in comments_by_hour:\n",
    "    avg_by_hour.append([hour, comments_by_hour[hour] / counts_by_hour[hour]])"
   ]
  },
  {
   "cell_type": "code",
   "execution_count": 38,
   "metadata": {
    "collapsed": false
   },
   "outputs": [
    {
     "data": {
      "text/plain": [
       "[['00', 8.127272727272727],\n",
       " ['22', 6.746478873239437],\n",
       " ['01', 11.383333333333333],\n",
       " ['23', 7.985294117647059],\n",
       " ['03', 7.796296296296297],\n",
       " ['18', 13.20183486238532],\n",
       " ['09', 5.5777777777777775],\n",
       " ['16', 16.796296296296298],\n",
       " ['21', 16.009174311926607],\n",
       " ['19', 10.8],\n",
       " ['12', 9.41095890410959],\n",
       " ['08', 10.25],\n",
       " ['02', 23.810344827586206],\n",
       " ['06', 9.022727272727273],\n",
       " ['14', 13.233644859813085],\n",
       " ['15', 38.5948275862069],\n",
       " ['17', 11.46],\n",
       " ['13', 14.741176470588234],\n",
       " ['05', 10.08695652173913],\n",
       " ['07', 7.852941176470588],\n",
       " ['11', 11.051724137931034],\n",
       " ['20', 21.525],\n",
       " ['10', 13.440677966101696],\n",
       " ['04', 7.170212765957447]]"
      ]
     },
     "execution_count": 38,
     "metadata": {},
     "output_type": "execute_result"
    }
   ],
   "source": [
    "avg_by_hour"
   ]
  },
  {
   "cell_type": "code",
   "execution_count": 40,
   "metadata": {
    "collapsed": false
   },
   "outputs": [
    {
     "name": "stdout",
     "output_type": "stream",
     "text": [
      "[[8.127272727272727, '00'], [6.746478873239437, '22'], [11.383333333333333, '01'], [7.985294117647059, '23'], [7.796296296296297, '03'], [13.20183486238532, '18'], [5.5777777777777775, '09'], [16.796296296296298, '16'], [16.009174311926607, '21'], [10.8, '19'], [9.41095890410959, '12'], [10.25, '08'], [23.810344827586206, '02'], [9.022727272727273, '06'], [13.233644859813085, '14'], [38.5948275862069, '15'], [11.46, '17'], [14.741176470588234, '13'], [10.08695652173913, '05'], [7.852941176470588, '07'], [11.051724137931034, '11'], [21.525, '20'], [13.440677966101696, '10'], [7.170212765957447, '04']]\n"
     ]
    }
   ],
   "source": [
    "# swap the columns \n",
    "swap_avg_by_hour = []\n",
    "\n",
    "for row in avg_by_hour:\n",
    "    swap_avg_by_hour.append([row[1], row[0]])\n",
    "\n",
    "print(swap_avg_by_hour)"
   ]
  },
  {
   "cell_type": "code",
   "execution_count": 44,
   "metadata": {
    "collapsed": false
   },
   "outputs": [],
   "source": [
    "# sort the result in decending order\n",
    "sorted_swap = sorted(swap_avg_by_hour, reverse = True)"
   ]
  },
  {
   "cell_type": "code",
   "execution_count": 53,
   "metadata": {
    "collapsed": false
   },
   "outputs": [
    {
     "name": "stdout",
     "output_type": "stream",
     "text": [
      "Top 5 Hours for Ask Posts Comments (Eastern time US)\n",
      "15:00: 38.59 average comments per post\n",
      "02:00: 23.81 average comments per post\n",
      "20:00: 21.52 average comments per post\n",
      "16:00: 16.80 average comments per post\n",
      "21:00: 16.01 average comments per post\n"
     ]
    }
   ],
   "source": [
    "print(\"Top 5 Hours for Ask Posts Comments (Eastern time US)\")\n",
    "for average, hour in sorted_swap[:5]:\n",
    "    template = \"{hour}: {avg:.2f} average comments per post\"\n",
    "    hours = dt.datetime.strptime(hour, \"%H\")\n",
    "    hours = dt.datetime.strftime(hours, \"%H:%M\")\n",
    "    print(template.format(hour = hours, avg = average)) "
   ]
  },
  {
   "cell_type": "markdown",
   "metadata": {},
   "source": [
    "It seems like the best time period to publish a Ask HN post is between **3 to 4 pm** Eastern Time(US) or 8pm to 9pm London time. Which maybe is a good time because people finished work, therefore have time to read and comment it on their way home or at home. The next good time period seems to be between **8 and 9pm** Eastern Time(US) (1am to 2am London Time). Also **2 am** seems to be great time to post (or 7am London time) which maybe can be explained that people will see it first thing in the morning. \n",
    "To confirm our findings we could maybe find a dataset, where you have the time when a comment is written. But for now this is a broad analysis about at which time it is best to publish a post. I would also assume that the number of upvotes and downvotes (points) highly influence how many comments you will receive. "
   ]
  },
  {
   "cell_type": "markdown",
   "metadata": {},
   "source": [
    "Further plan for analysis:\n",
    "* Determine if show or ask posts receive more points on average.\n",
    "* Determine if posts created at a certain time are more likely to receive more points.\n",
    "* Compare your results to the average number of comments and points other posts receive."
   ]
  }
 ],
 "metadata": {
  "kernelspec": {
   "display_name": "Python 3",
   "language": "python",
   "name": "python3"
  },
  "language_info": {
   "codemirror_mode": {
    "name": "ipython",
    "version": 3
   },
   "file_extension": ".py",
   "mimetype": "text/x-python",
   "name": "python",
   "nbconvert_exporter": "python",
   "pygments_lexer": "ipython3",
   "version": "3.4.3"
  }
 },
 "nbformat": 4,
 "nbformat_minor": 2
}
