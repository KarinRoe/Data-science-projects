{
 "cells": [
  {
   "cell_type": "markdown",
   "metadata": {},
   "source": [
    "# Data science project \n",
    "### Apple Store data"
   ]
  },
  {
   "cell_type": "markdown",
   "metadata": {
    "collapsed": true
   },
   "source": [
    "First open the csv file with the open function. Than import reader from csv and use it to read the file in Python. Than transform it into list of lists. At last you can see the first 4 lists."
   ]
  },
  {
   "cell_type": "code",
   "execution_count": 2,
   "metadata": {},
   "outputs": [
    {
     "data": {
      "text/plain": [
       "[['id',\n",
       "  'track_name',\n",
       "  'size_bytes',\n",
       "  'currency',\n",
       "  'price',\n",
       "  'rating_count_tot',\n",
       "  'rating_count_ver',\n",
       "  'user_rating',\n",
       "  'user_rating_ver',\n",
       "  'ver',\n",
       "  'cont_rating',\n",
       "  'prime_genre',\n",
       "  'sup_devices.num',\n",
       "  'ipadSc_urls.num',\n",
       "  'lang.num',\n",
       "  'vpp_lic'],\n",
       " ['284882215',\n",
       "  'Facebook',\n",
       "  '389879808',\n",
       "  'USD',\n",
       "  '0.0',\n",
       "  '2974676',\n",
       "  '212',\n",
       "  '3.5',\n",
       "  '3.5',\n",
       "  '95.0',\n",
       "  '4+',\n",
       "  'Social Networking',\n",
       "  '37',\n",
       "  '1',\n",
       "  '29',\n",
       "  '1'],\n",
       " ['389801252',\n",
       "  'Instagram',\n",
       "  '113954816',\n",
       "  'USD',\n",
       "  '0.0',\n",
       "  '2161558',\n",
       "  '1289',\n",
       "  '4.5',\n",
       "  '4.0',\n",
       "  '10.23',\n",
       "  '12+',\n",
       "  'Photo & Video',\n",
       "  '37',\n",
       "  '0',\n",
       "  '29',\n",
       "  '1'],\n",
       " ['529479190',\n",
       "  'Clash of Clans',\n",
       "  '116476928',\n",
       "  'USD',\n",
       "  '0.0',\n",
       "  '2130805',\n",
       "  '579',\n",
       "  '4.5',\n",
       "  '4.5',\n",
       "  '9.24.12',\n",
       "  '9+',\n",
       "  'Games',\n",
       "  '38',\n",
       "  '5',\n",
       "  '18',\n",
       "  '1']]"
      ]
     },
     "execution_count": 2,
     "metadata": {},
     "output_type": "execute_result"
    }
   ],
   "source": [
    "opened_file = open(\"AppleStore.csv\")\n",
    "from csv import reader\n",
    "read_file = reader(opened_file)\n",
    "apps_data = list(read_file)\n",
    "apps_data[0:4]"
   ]
  },
  {
   "cell_type": "markdown",
   "metadata": {},
   "source": [
    "The AppleStore dataset contains mobile App Statistics from the Apple iOS app store. This data set has details from over 7000 apps and was collected in July 2017 by webscrapping. \n",
    "More details and a download link can be found on [Kaggle](https://www.kaggle.com/ramamet4/app-store-apple-data-set-10k-apps/home)."
   ]
  },
  {
   "cell_type": "markdown",
   "metadata": {},
   "source": [
    "|Column name| Description|\n",
    "|------|------|\n",
    "|\"id\"|App ID|\n",
    "|\"track_name\"|App Name|\n",
    "|\"size_bytes\"|Size (in Bytes)|\n",
    "|\"currency\"| Currency Type|\n",
    "|\"price\"| Price amount|\n",
    "|\"rating_count_tot\"|User Rating counts (for all version)|\n",
    "|\"rating_count_ver\"| User Rating counts (for current version)|\n",
    "|\"user_rating\"| Average User Rating value (for all version)|\n",
    "|\"user_rating_ver\"| Average User Rating value (for current version)|\n",
    "|\"ver\"| Latest version code|\n",
    "|\"cont_rating\"| Content Rating|\n",
    "|\"prime_genre\"| Primary Genre|\n",
    "|\"sup_devices.num\"| Number of supporting devices|\n",
    "|\"ipadSc_urls.num\"| Number of screenshots showed or display|\n",
    "|\"lang.num\"| Number of supported languages|\n",
    "|\"vpp_lic\"| Vpp Device Based Licensing Enabled|\n"
   ]
  },
  {
   "cell_type": "code",
   "execution_count": null,
   "metadata": {
    "collapsed": true
   },
   "outputs": [],
   "source": []
  }
 ],
 "metadata": {
  "kernelspec": {
   "display_name": "Python 3",
   "language": "python",
   "name": "python3"
  },
  "language_info": {
   "codemirror_mode": {
    "name": "ipython",
    "version": 3
   },
   "file_extension": ".py",
   "mimetype": "text/x-python",
   "name": "python",
   "nbconvert_exporter": "python",
   "pygments_lexer": "ipython3",
   "version": "3.7.0"
  }
 },
 "nbformat": 4,
 "nbformat_minor": 2
}
